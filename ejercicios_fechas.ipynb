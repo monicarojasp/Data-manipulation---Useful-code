{
 "cells": [
  {
   "cell_type": "markdown",
   "metadata": {},
   "source": [
    "Dado el siguiente Dataframe llamado df_ventas:\n",
    "fechas = pd.date_range(start='2022-01-01', end='2022-01-10', freq='D')\n",
    "ventas = [50, 45, 60, 55, 75, 80, 65, 70, 90, 85]\n",
    "df_ventas = pd.DataFrame({now(): fechas, 'Ventas': ventas})\n",
    "\n",
    "a) Agrega una columna llamada 'Dia_Semana' que contenga el día de la semana correspondiente a cada fecha.\n",
    "b) Filtra los datos para incluir solo las ventas realizadas en días jueves."
   ]
  },
  {
   "cell_type": "code",
   "execution_count": 6,
   "metadata": {},
   "outputs": [
    {
     "data": {
      "text/html": [
       "<div>\n",
       "<style scoped>\n",
       "    .dataframe tbody tr th:only-of-type {\n",
       "        vertical-align: middle;\n",
       "    }\n",
       "\n",
       "    .dataframe tbody tr th {\n",
       "        vertical-align: top;\n",
       "    }\n",
       "\n",
       "    .dataframe thead th {\n",
       "        text-align: right;\n",
       "    }\n",
       "</style>\n",
       "<table border=\"1\" class=\"dataframe\">\n",
       "  <thead>\n",
       "    <tr style=\"text-align: right;\">\n",
       "      <th></th>\n",
       "      <th>Fechas</th>\n",
       "      <th>Ventas</th>\n",
       "      <th>Dia_Semana</th>\n",
       "    </tr>\n",
       "  </thead>\n",
       "  <tbody>\n",
       "    <tr>\n",
       "      <th>5</th>\n",
       "      <td>2022-01-06</td>\n",
       "      <td>80</td>\n",
       "      <td>Thursday</td>\n",
       "    </tr>\n",
       "  </tbody>\n",
       "</table>\n",
       "</div>"
      ],
      "text/plain": [
       "      Fechas  Ventas Dia_Semana\n",
       "5 2022-01-06      80   Thursday"
      ]
     },
     "execution_count": 6,
     "metadata": {},
     "output_type": "execute_result"
    }
   ],
   "source": [
    "import pandas as pd\n",
    "import datetime\n",
    "\n",
    "fechas = pd.date_range(start='2022-01-01', end='2022-01-10', freq='D')\n",
    "ventas = [50, 45, 60, 55, 75, 80, 65, 70, 90, 85]\n",
    "df_ventas = pd.DataFrame({'Fechas': fechas, 'Ventas': ventas})\n",
    "# a) Agrega una columna llamada 'Dia_Semana' que contenga el día de la semana correspondiente a cada fecha.\n",
    "df_ventas['Dia_Semana'] = df_ventas['Fechas'].dt.day_name()\n",
    "\n",
    "# b) Filtra los datos para incluir solo las ventas realizadas en días jueves.\n",
    "df_jueves = df_ventas[df_ventas['Dia_Semana'] == 'Thursday']\n",
    "df_jueves"
   ]
  }
 ],
 "metadata": {
  "kernelspec": {
   "display_name": "Python 3",
   "language": "python",
   "name": "python3"
  },
  "language_info": {
   "codemirror_mode": {
    "name": "ipython",
    "version": 3
   },
   "file_extension": ".py",
   "mimetype": "text/x-python",
   "name": "python",
   "nbconvert_exporter": "python",
   "pygments_lexer": "ipython3",
   "version": "3.10.5"
  }
 },
 "nbformat": 4,
 "nbformat_minor": 2
}
