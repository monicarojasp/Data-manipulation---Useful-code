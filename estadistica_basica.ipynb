{
 "cells": [
  {
   "cell_type": "markdown",
   "metadata": {},
   "source": [
    "Supongamos que una tienda de ropa quiere analizar sus ventas mensuales. Calcular la media de las ventas mensuales para obtener un promedio de ingresos por mes.\n",
    "\n",
    "calcular la mediana de las ventas mensuales para identificar el mes en el que se registró el punto medio de las ventas\n",
    "\n",
    "Analizar la moda de las ventas para identificar los productos más vendidos y adaptar su estrategia de inventario en consecuencia."
   ]
  },
  {
   "cell_type": "code",
   "execution_count": 7,
   "metadata": {},
   "outputs": [
    {
     "name": "stdout",
     "output_type": "stream",
     "text": [
      "Media de ventas mensuales: 100.0\n",
      "Mediana de ventas mensuales: 100.0\n",
      "Moda de ventas mensuales: 50\n"
     ]
    }
   ],
   "source": [
    "import numpy as np\n",
    "from scipy import stats\n",
    "# Ventas mensuales de la tienda de ropa (en miles de dólares)\n",
    "ventas_mensuales = np.array([50, 60, 70, 80, 90, 100, 110, 120, 130, 140, 150])\n",
    "\n",
    "#stats.mode()  --> Moda\n",
    "\n",
    "media_ventas = np.mean(ventas_mensuales)\n",
    "mediana_ventas = np.median(ventas_mensuales)\n",
    "moda_ventas = stats.mode(ventas_mensuales)\n",
    "\n",
    "print(\"Media de ventas mensuales:\", media_ventas)\n",
    "print(\"Mediana de ventas mensuales:\", mediana_ventas)\n",
    "print(\"Moda de ventas mensuales:\", moda_ventas[0])"
   ]
  },
  {
   "cell_type": "markdown",
   "metadata": {},
   "source": [
    "Supongamos que tienes un conjunto de datos que representa las calificaciones de los estudiantes en un examen de matemáticas. Estas son las calificaciones de cinco estudiantes: 80, 85, 90, 95 y 100."
   ]
  },
  {
   "cell_type": "code",
   "execution_count": 9,
   "metadata": {},
   "outputs": [
    {
     "name": "stdout",
     "output_type": "stream",
     "text": [
      "Media de las calificaciones: 90.0\n",
      "Varianza de las calificaciones: 50.0\n",
      "Desviación estándar de las calificaciones: 7.0710678118654755\n",
      "Desviación estándar de las calificaciones: 7.0710678118654755\n"
     ]
    }
   ],
   "source": [
    "import numpy as np\n",
    "\n",
    "# Calificaciones de los estudiantes\n",
    "calificaciones = np.array([80, 85, 90, 95, 100])\n",
    "\n",
    "#Media\n",
    "media = np.mean(calificaciones)\n",
    "\n",
    "#Varianza\n",
    "varianza = np.var(calificaciones)\n",
    "\n",
    "#Desvianción estándar\n",
    "\n",
    "desviacion_estandar = np.sqrt(varianza)\n",
    "desviacion_estandar2 = np.std(calificaciones)\n",
    "\n",
    "print(\"Media de las calificaciones:\", media)\n",
    "print(\"Varianza de las calificaciones:\", varianza)\n",
    "print(\"Desviación estándar de las calificaciones:\", desviacion_estandar)\n",
    "print(\"Desviación estándar de las calificaciones:\", desviacion_estandar2)"
   ]
  },
  {
   "cell_type": "markdown",
   "metadata": {},
   "source": [
    "Supongamos que tenemos una muestra de alturas de personas (en centímetros) en una clase de estudiantes. Las alturas son las siguientes: 160, 165, 170, 175, 180, 185, 190."
   ]
  },
  {
   "cell_type": "code",
   "execution_count": 11,
   "metadata": {},
   "outputs": [
    {
     "name": "stdout",
     "output_type": "stream",
     "text": [
      "Skewness (Asimetría): 0.0\n",
      "Kurtosis (Apuntamiento): -1.25\n"
     ]
    }
   ],
   "source": [
    "#Skewness(Simetría) y #Kurtosis\n",
    "import numpy as np\n",
    "import scipy.stats as stats\n",
    "\n",
    "# Alturas de una muestra de personas (en centímetros)\n",
    "alturas = np.array([160, 165, 170, 175, 180, 185, 190])\n",
    "\n",
    "skewness = stats.skew(alturas)\n",
    "kurtosis = stats.kurtosis(alturas)\n",
    "\n",
    "print(\"Skewness (Asimetría):\", skewness)\n",
    "print(\"Kurtosis (Apuntamiento):\", kurtosis)"
   ]
  },
  {
   "cell_type": "code",
   "execution_count": 16,
   "metadata": {},
   "outputs": [
    {
     "data": {
      "image/png": "[encoded data removed]",
      "text/plain": [
       "<Figure size 640x480 with 1 Axes>"
      ]
     },
     "metadata": {},
     "output_type": "display_data"
    }
   ],
   "source": [
    "import numpy as np\n",
    "from scipy.stats import norm\n",
    "import matplotlib.pyplot as plt\n",
    "\n",
    "media, desviacion_estandar = 0,1\n",
    "\n",
    "data = np.random.normal(media, desviacion_estandar, 1000)\n",
    "\n",
    "plt.hist(data, color='g', density=True, alpha= 0.7)\n",
    "\n",
    "xmin, xmax = plt.xlim()\n",
    "x = np.linspace(xmin,xmax, 100)\n",
    "\n",
    "p= norm.pdf(x, media, desviacion_estandar)\n",
    "\n",
    "plt.plot(x,p,'k', linewidth=2)\n",
    "plt.show()"
   ]
  },
  {
   "cell_type": "markdown",
   "metadata": {},
   "source": [
    "\n",
    "Supongamos que tenemos un conjunto de datos que contiene las calificaciones de los estudiantes en dos asignaturas diferentes: Matemáticas y Ciencias. Queremos entender si existe una relación entre las calificaciones en estas dos asignaturas y en qué medida cambian juntas.\n",
    "Podemos calcular la covarianza entre las calificaciones de Matemáticas y Ciencias para determinar la dirección y la fuerza de la relación entre ellas."
   ]
  },
  {
   "cell_type": "code",
   "execution_count": 18,
   "metadata": {},
   "outputs": [
    {
     "name": "stdout",
     "output_type": "stream",
     "text": [
      "covarianza entre Matemáticas y ciencias 62.5\n"
     ]
    }
   ],
   "source": [
    "#covarianza\n",
    "import numpy as np\n",
    "\n",
    "# Calificaciones de los estudiantes en Matemáticas y Ciencias (en una escala del 0 al 100)\n",
    "matematicas = np.array([80, 85, 90, 95, 100])\n",
    "ciencias = np.array([75, 80, 85, 90, 95])\n",
    "\n",
    "covarianza = np.cov(matematicas, ciencias)[0,1]\n",
    "\n",
    "print(f'covarianza entre Matemáticas y ciencias {covarianza}')"
   ]
  },
  {
   "cell_type": "markdown",
   "metadata": {},
   "source": [
    "Supongamos que tenemos un conjunto de datos que contiene información sobre el rendimiento de los estudiantes en dos exámenes diferentes: Matemáticas y Ciencias. Queremos determinar si existe una correlación entre las calificaciones en Matemáticas y Ciencias, y si es así, cuál es la fuerza de esa correlación."
   ]
  },
  {
   "cell_type": "code",
   "execution_count": 4,
   "metadata": {},
   "outputs": [
    {
     "name": "stdout",
     "output_type": "stream",
     "text": [
      "Correlación entre Matemáticas y ciencias 1.0\n"
     ]
    }
   ],
   "source": [
    "#Correlación\n",
    "import numpy as np\n",
    "\n",
    "# Calificaciones de los estudiantes en Matemáticas y Ciencias (en una escala del 0 al 100)\n",
    "matematicas = np.array([80, 85, 90, 95, 100])\n",
    "ciencias = np.array([75, 80, 85, 90, 95])\n",
    "\n",
    "Correlacion = np.corrcoef(matematicas, ciencias)[0,1]\n",
    "\n",
    "print(f'Correlación entre Matemáticas y ciencias {Correlacion}')"
   ]
  },
  {
   "cell_type": "markdown",
   "metadata": {},
   "source": [
    "Supongamos que estamos realizando un estudio sobre la probabilidad de que un estudiante apruebe un examen de matemáticas. Sabemos que la probabilidad de que un estudiante apruebe es del 70%. Queremos calcular la probabilidad de que, un grupo de 10 estudiantes seleccionados al azar, exactamente 7 aprueben el examen."
   ]
  },
  {
   "cell_type": "code",
   "execution_count": 5,
   "metadata": {},
   "outputs": [
    {
     "name": "stdout",
     "output_type": "stream",
     "text": [
      "La probabilidad de que exactamente 7 estudiantes apruben el examen es de:  0.26682793200000005\n"
     ]
    }
   ],
   "source": [
    "#pip install scipy \n",
    "import scipy.stats as stats\n",
    "\n",
    "#Distribución Binomial:\n",
    "\n",
    "# Parámetros de la distribución binomial\n",
    "num_estudiantes = 10  # Número total de estudiantes\n",
    "prob_aprobar = 0.7    # Probabilidad de que un estudiante apruebe el examen\n",
    "\n",
    "# Calcular la probabilidad utilizando la distribución binomial\n",
    "#pmf --> masa de probabilidad\n",
    "probabilidad = stats.binom.pmf(7,num_estudiantes,prob_aprobar)\n",
    "\n",
    "print('La probabilidad de que exactamente 7 estudiantes apruben el examen es de: ', probabilidad)"
   ]
  },
  {
   "cell_type": "markdown",
   "metadata": {},
   "source": [
    "Supongamos que estamos realizando un estudio sobre la cantidad promedio de clientes que ingresan a una tienda durante una hora determinada. Basados en datos históricos, sabemos que la tasa promedio de llegada de clientes es de 5 por hora. Queremos calcular la probabilidad de que exactamente 3 clientes entren en la tienda en una hora."
   ]
  },
  {
   "cell_type": "code",
   "execution_count": 6,
   "metadata": {},
   "outputs": [
    {
     "name": "stdout",
     "output_type": "stream",
     "text": [
      "La probabilidad de que exactamente 3 clientes entren en la tienda en una hora es: 0.1403738958142805\n"
     ]
    }
   ],
   "source": [
    "#Distribución de Poisson\n",
    "\n",
    "# Parámetro lambda (tasa promedio de llegada de clientes por hora)\n",
    "lambda_clientes = 5\n",
    "# Número de clientes que queremos calcular la probabilidad de que entren en una hora\n",
    "num_clientes = 3\n",
    "\n",
    "#pmf --> masa de probabilidad\n",
    "probabilidad = stats.poisson.pmf(num_clientes, lambda_clientes)\n",
    "\n",
    "print(\"La probabilidad de que exactamente\", num_clientes, \"clientes entren en la tienda en una hora es:\", probabilidad)"
   ]
  },
  {
   "cell_type": "markdown",
   "metadata": {},
   "source": [
    "Supongamos que estamos estudiando el tiempo entre llegadas de clientes a un mostrador de atención al cliente en una tienda. Basados en datos históricos, sabemos que el tiempo promedio entre llegadas de clientes es de 5 minutos. Queremos calcular la probabilidad de que el próximo cliente llegue en menos de 3 minutos."
   ]
  },
  {
   "cell_type": "code",
   "execution_count": 8,
   "metadata": {},
   "outputs": [
    {
     "name": "stdout",
     "output_type": "stream",
     "text": [
      "La probabilidad de que el próximo cliente llegue en menos de 3 minutos es: 0.4511883639059735\n"
     ]
    }
   ],
   "source": [
    "#Distribución Exponencial\n",
    "\n",
    "# Parámetro lambda (tasa de llegada de clientes por minuto)\n",
    "lambda_llegadas = 1/5  # Tasa promedio de llegada de clientes (5 clientes por minuto)\n",
    "# Tiempo límite para calcular la probabilidad (en minutos)\n",
    "tiempo_limite = 3\n",
    "\n",
    "#Calcular Distribución Exponencial acumulada \n",
    "probabilidad = stats.expon.cdf(tiempo_limite, scale = 1/lambda_llegadas)\n",
    "\n",
    "print(\"La probabilidad de que el próximo cliente llegue en menos de\", tiempo_limite, \"minutos es:\", probabilidad)"
   ]
  },
  {
   "cell_type": "markdown",
   "metadata": {},
   "source": [
    "Supongamos que tenemos un conjunto de datos de alturas de estudiantes en una escuela y queremos tomar una muestra aleatoria para analizarla:"
   ]
  },
  {
   "cell_type": "code",
   "execution_count": 10,
   "metadata": {},
   "outputs": [
    {
     "name": "stdout",
     "output_type": "stream",
     "text": [
      "Datos originales\n",
      "   nombre  altura\n",
      "0    Juan     165\n",
      "1   María     170\n",
      "2   Pedro     155\n",
      "3     Ana     180\n",
      "4    Luis     175\n",
      "5   Sofía     160\n",
      "6  Carlos     165\n",
      "7   Elena     170\n",
      "8   Marta     165\n",
      "9   Pablo     170\n",
      "\n",
      "Muestra aleatoria de tamaño  5 : \n",
      "   nombre  altura\n",
      "6  Carlos     165\n",
      "5   Sofía     160\n",
      "4    Luis     175\n",
      "3     Ana     180\n",
      "9   Pablo     170\n"
     ]
    }
   ],
   "source": [
    "import pandas as pd\n",
    "datos = pd.DataFrame({\n",
    "    'nombre': ['Juan', 'María', 'Pedro', 'Ana', 'Luis', 'Sofía', 'Carlos', 'Elena', 'Marta', 'Pablo'],\n",
    "    'altura': [165, 170, 155, 180, 175, 160, 165, 170, 165, 170]\n",
    "})\n",
    "print('Datos originales')\n",
    "print(datos)\n",
    "\n",
    "n = 5\n",
    "muestra = datos.sample(5)\n",
    "\n",
    "print(f'\\nMuestra aleatoria de tamaño  {n} : \\n{muestra}' )\n"
   ]
  },
  {
   "cell_type": "markdown",
   "metadata": {},
   "source": [
    "Vamos a realizar una prueba de hipótesis para comparar las medias de dos muestras y determinar si hay una diferencia significativa entre ellas:\n",
    "\n",
    "Supongamos que tenemos dos muestras de puntuaciones de exámenes de dos grupos de estudiantes, y queremos determinar si hay una diferencia significativa en sus rendimientos.\n"
   ]
  },
  {
   "cell_type": "code",
   "execution_count": 5,
   "metadata": {},
   "outputs": [
    {
     "name": "stdout",
     "output_type": "stream",
     "text": [
      "Estadístico t: 4.501238010702827\n",
      "Valor p: 0.0002762440838558478\n",
      "Hay evidencia suficiente para rechazar la hipótesis nula.\n"
     ]
    }
   ],
   "source": [
    "#Inferencia Estadística\n",
    "\n",
    "from scipy import stats\n",
    "\n",
    "# Datos de las dos muestras (puntuaciones de exámenes)\n",
    "muestra1 = [78, 85, 90, 88, 82, 95, 88, 92, 85, 90]\n",
    "muestra2 = [72, 80, 75, 68, 78, 82, 85, 80, 75, 78]\n",
    "\n",
    "#Prueba t de Student para comparar las medias de las dos muestras.\n",
    "t_estaditica, p_valor = stats.ttest_ind(muestra1, muestra2)\n",
    "print(\"Estadístico t:\", t_estaditica)\n",
    "print(\"Valor p:\", p_valor)\n",
    "\n",
    "alfa = 0.05\n",
    "if p_valor < alfa:\n",
    "    print('Hay evidencia suficiente para rechazar la hipótesis nula.')\n",
    "else:\n",
    "    print('No hay suficiente evidencia para rechazar la hipótesis nula.')"
   ]
  },
  {
   "cell_type": "markdown",
   "metadata": {},
   "source": [
    "Supongamos que tenemos una muestra de alturas de estudiantes y queremos calcular un intervalo de confianza del 95% para la media de altura poblacional:"
   ]
  },
  {
   "cell_type": "code",
   "execution_count": 17,
   "metadata": {},
   "outputs": [
    {
     "name": "stdout",
     "output_type": "stream",
     "text": [
      "1.9610088106776966\n",
      "Intervalo de confianza del 95.0 % para la media de altura poblacional:\n",
      "Límite inferior: 166.0915364137332\n",
      "Límite superior: 174.50846358626683\n"
     ]
    }
   ],
   "source": [
    "#Intervalo de Confianza\n",
    "\n",
    "# Datos de muestra (alturas de estudiantes en cm)\n",
    "muestra_alturas = [165, 170, 168, 172, 175, 160, 165, 180, 178, 170]\n",
    "nivel_confianza = 0.95\n",
    "\n",
    "#Calcular media\n",
    "media = np.mean(muestra_alturas)\n",
    "#Calcular std\n",
    "desviacion_estandar = np.std(muestra_alturas)\n",
    "#Calcular tamaño muestra\n",
    "tamano_muestra = len(muestra_alturas)\n",
    "#Calcular el Error estándar de la media\n",
    "error_estandar = stats.sem(muestra_alturas)\n",
    "\n",
    "#Calular valor de críterio con distribución con t Student\n",
    "valor_critico = stats.t.ppf((1+nivel_confianza)/2, df=tamano_muestra-1)\n",
    "\n",
    "#Calcular el límite inf y sup del intervalo de confianza para la media poblacional\n",
    "\n",
    "limite_inferior = media - valor_critico * (desviacion_estandar / np.sqrt(tamano_muestra))\n",
    "limite_superior = media + valor_critico * (desviacion_estandar / np.sqrt(tamano_muestra))\n",
    "\n",
    "#imprimir el intervalo de confianza\n",
    "print(\"Intervalo de confianza del\", nivel_confianza * 100, \"% para la media de altura poblacional:\")\n",
    "print(\"Límite inferior:\", limite_inferior)\n",
    "print(\"Límite superior:\", limite_superior)"
   ]
  },
  {
   "cell_type": "markdown",
   "metadata": {},
   "source": [
    "Este intervalo de confianza del 95% indica que, con un 95% de confianza, la media verdadera de las alturas poblacionales está entre 166.09 cm y 174.51 cm. Es decir, si repetimos este proceso muchas veces, el 95% de los intervalos calculados contendrán la media verdadera de la población."
   ]
  },
  {
   "cell_type": "markdown",
   "metadata": {},
   "source": [
    "Supongamos que tenemos dos muestras de puntuaciones de exámenes de dos grupos de estudiantes, y queremos determinar si hay una diferencia significativa en sus rendimientos. Usaremos una prueba t de Student para muestras independientes."
   ]
  },
  {
   "cell_type": "code",
   "execution_count": 18,
   "metadata": {},
   "outputs": [
    {
     "name": "stdout",
     "output_type": "stream",
     "text": [
      "T-test statistic: 4.501238010702827\n",
      "P-value: 0.0002762440838558478\n",
      "El p-valor es menor que 0.05, por ende rechazamos la hipotesis nula. Hay differencias significativas en entre las dos muestras.\n"
     ]
    }
   ],
   "source": [
    "\n",
    "# Datos de las dos muestras (puntuaciones de exámenes)\n",
    "muestra1 = [78, 85, 90, 88, 82, 95, 88, 92, 85, 90]\n",
    "muestra2 = [72, 80, 75, 68, 78, 82, 85, 80, 75, 78]\n",
    "\n",
    "# t-test independiente\n",
    "t_statistic, p_value = stats.ttest_ind(muestra1, muestra2)\n",
    "\n",
    "# Resultados\n",
    "print(\"T-test statistic:\", t_statistic)\n",
    "print(\"P-value:\", p_value)\n",
    "\n",
    "# Interpretamos los resultados\n",
    "if p_value < 0.05:\n",
    "    print(\"El p-valor es menor que 0.05, por ende rechazamos la hipotesis nula. Hay differencias significativas en entre las dos muestras.\")\n",
    "else:\n",
    "    print(\"El p-valor es mayor que 0.05, por ende fallamos en rechazar la hipotesis nula. No hay diferencia significativa entre las dos muestras.\")"
   ]
  },
  {
   "cell_type": "code",
   "execution_count": 22,
   "metadata": {},
   "outputs": [
    {
     "name": "stdout",
     "output_type": "stream",
     "text": [
      "El valor de la estadística t es:  4.501238010702827\n",
      "El valor p es:  0.0002762440838558478\n",
      "Rechazamos la hipótesis nula, hay una diferencia significativa en las medias.\n"
     ]
    }
   ],
   "source": [
    "muestra1 = [78, 85, 90, 88, 82, 95, 88, 92, 85, 90]\n",
    "muestra2 = [72, 80, 75, 68, 78, 82, 85, 80, 75, 78]\n",
    "\n",
    "t_stat, p_valor = stats.ttest_ind(muestra1, muestra2)\n",
    "print(\"El valor de la estadística t es: \", t_stat)\n",
    "print(\"El valor p es: \", p_valor)\n",
    "alfa = 0.05\n",
    "if p_valor < alfa:\n",
    "    print(\"Rechazamos la hipótesis nula, hay una diferencia significativa en las medias.\")\n",
    "else:\n",
    "    print(\"No rechazamos la hipótesis nula, no hay una diferencia significativa en las medias.\")"
   ]
  },
  {
   "cell_type": "code",
   "execution_count": 24,
   "metadata": {},
   "outputs": [
    {
     "data": {
      "image/png": "[encoded data removed]",
      "text/plain": [
       "<Figure size 640x480 with 1 Axes>"
      ]
     },
     "metadata": {},
     "output_type": "display_data"
    }
   ],
   "source": [
    "import matplotlib.pyplot as plt\n",
    "\n",
    "año = [1950, 1960, 1970, 1980, 1990, 2000, 2010]\n",
    "PIB = [300.2, 543.3, 1075.9, 2862.5, 5979.6, 10289.7, 14958.3]\n",
    "\n",
    "plt.plot(año, PIB, color='g', marker='o')\n",
    "plt.title('PIB')\n",
    "plt.ylabel('Y')\n",
    "plt.xlabel('x')\n",
    "plt.show()\n"
   ]
  },
  {
   "cell_type": "code",
   "execution_count": 25,
   "metadata": {},
   "outputs": [
    {
     "data": {
      "image/png": "[encoded data removed]",
      "text/plain": [
       "<Figure size 640x480 with 1 Axes>"
      ]
     },
     "metadata": {},
     "output_type": "display_data"
    }
   ],
   "source": [
    "plt.hist(PIB, bins=20, color='blue')\n",
    "plt.title('PIB Histograma')\n",
    "plt.show()"
   ]
  }
 ],
 "metadata": {
  "kernelspec": {
   "display_name": "Python 3",
   "language": "python",
   "name": "python3"
  },
  "language_info": {
   "codemirror_mode": {
    "name": "ipython",
    "version": 3
   },
   "file_extension": ".py",
   "mimetype": "text/x-python",
   "name": "python",
   "nbconvert_exporter": "python",
   "pygments_lexer": "ipython3",
   "version": "3.10.5"
  }
 },
 "nbformat": 4,
 "nbformat_minor": 2
}
